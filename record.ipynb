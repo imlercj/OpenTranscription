{
 "cells": [
  {
   "cell_type": "code",
   "execution_count": 6,
   "metadata": {},
   "outputs": [],
   "source": [
    "#!pip install pyaudio wave"
   ]
  },
  {
   "cell_type": "markdown",
   "metadata": {},
   "source": [
    "Use spacy environment"
   ]
  },
  {
   "cell_type": "code",
   "execution_count": 15,
   "metadata": {},
   "outputs": [],
   "source": [
    "import pyaudio\n",
    "import wave\n",
    "from config import * \n",
    "\n",
    "p = pyaudio.PyAudio()"
   ]
  },
  {
   "cell_type": "code",
   "execution_count": 16,
   "metadata": {},
   "outputs": [
    {
     "name": "stdout",
     "output_type": "stream",
     "text": [
      "Microsoft Sound Mapper - Input\n",
      "Stereo Mix (Realtek(R) Audio)\n",
      "dev_index 1\n",
      "Microphone Array (IntelÂ® Smart \n",
      "Ekstern mikrofon (Realtek(R) Au\n",
      "Microsoft Sound Mapper - Output\n",
      "Headphones (Realtek(R) Audio)\n",
      "Speakers (Lenovo USB Audio)\n",
      "HÃ¸yttalere (Realtek(R) Audio)\n",
      "Primary Sound Capture Driver\n",
      "Stereo Mix (Realtek(R) Audio)\n",
      "Microphone Array (IntelÂ® Smart Sound Technology (IntelÂ® SST))\n",
      "Ekstern mikrofon (Realtek(R) Audio)\n",
      "Primary Sound Driver\n",
      "Headphones (Realtek(R) Audio)\n",
      "Speakers (Lenovo USB Audio)\n",
      "HÃ¸yttalere (Realtek(R) Audio)\n",
      "Speakers (Lenovo USB Audio)\n",
      "HÃ¸yttalere (Realtek(R) Audio)\n",
      "Headphones (Realtek(R) Audio)\n",
      "Microphone Array (IntelÂ® Smart Sound Technology (IntelÂ® SST))\n",
      "Stereo Mix (Realtek(R) Audio)\n",
      "Ekstern mikrofon (Realtek(R) Audio)\n",
      "Headset (@System32\\drivers\\bthhfenum.sys,#2;%1 Hands-Free AG Audio%0\n",
      ";(Jabra Move SE v1.0.0))\n",
      "Headset (@System32\\drivers\\bthhfenum.sys,#2;%1 Hands-Free AG Audio%0\n",
      ";(Jabra Move SE v1.0.0))\n",
      "Headset (@System32\\drivers\\bthhfenum.sys,#2;%1 Hands-Free AG Audio%0\n",
      ";(Jabra Elite Active 75t))\n",
      "Headset (@System32\\drivers\\bthhfenum.sys,#2;%1 Hands-Free AG Audio%0\n",
      ";(Jabra Elite Active 75t))\n",
      "Headset (@System32\\drivers\\bthhfenum.sys,#2;%1 Hands-Free AG Audio%0\n",
      ";(UE BOOM 2))\n",
      "Headset (@System32\\drivers\\bthhfenum.sys,#2;%1 Hands-Free AG Audio%0\n",
      ";(UE BOOM 2))\n",
      "Microphone (Realtek HD Audio Mic input)\n",
      "Stereo Mix (Realtek HD Audio Stereo input)\n",
      "Headphones 1 (Realtek HD Audio 2nd output with SST)\n",
      "Headphones 2 (Realtek HD Audio 2nd output with SST)\n",
      "PC Speaker (Realtek HD Audio 2nd output with SST)\n",
      "Speakers 1 (Realtek HD Audio output with SST)\n",
      "Speakers 2 (Realtek HD Audio output with SST)\n",
      "PC Speaker (Realtek HD Audio output with SST)\n",
      "Headphones ()\n",
      "Microphone (Lenovo USB Audio)\n",
      "Speakers (Lenovo USB Audio)\n",
      "Headphones ()\n",
      "Microphone Array (IntelÂ® Smart Sound Technology (IntelÂ® SST) Microphone)\n",
      "Headphones ()\n",
      "Headset (@System32\\drivers\\bthhfenum.sys,#2;%1 Hands-Free AG Audio%0\n",
      ";(MDR-1000X))\n",
      "Headset (@System32\\drivers\\bthhfenum.sys,#2;%1 Hands-Free AG Audio%0\n",
      ";(MDR-1000X))\n",
      "Headphones ()\n"
     ]
    },
    {
     "data": {
      "text/plain": [
       "1"
      ]
     },
     "execution_count": 16,
     "metadata": {},
     "output_type": "execute_result"
    }
   ],
   "source": [
    "for i in range(p.get_device_count()):\n",
    "    dev = p.get_device_info_by_index(i)\n",
    "    print(dev['name'])\n",
    "    if (dev['name'] == 'Stereo Mix (Realtek(R) Audio)' and dev['hostApi'] == 0):\n",
    "        dev_index = dev['index'];\n",
    "        print('dev_index', dev_index)\n",
    "dev_index"
   ]
  },
  {
   "cell_type": "code",
   "execution_count": 21,
   "metadata": {},
   "outputs": [
    {
     "name": "stdout",
     "output_type": "stream",
     "text": [
      "* recording\n",
      "* done recording\n"
     ]
    }
   ],
   "source": [
    "\"\"\"PyAudio example: Record a few seconds of audio and save to a WAVE file.\"\"\"\n",
    "dev_index = 1\n",
    "\n",
    "stream = p.open(format=FORMAT,\n",
    "                channels=CHANNELS,\n",
    "                rate=RATE,\n",
    "                input=True,\n",
    "                input_device_index = dev_index,\n",
    "                frames_per_buffer=CHUNK)\n",
    "\n",
    "print(\"* recording\")\n",
    "\n",
    "frames = []\n",
    "\n",
    "for i in range(0, int(RATE / CHUNK * RECORD_SECONDS)):\n",
    "    data = stream.read(CHUNK)\n",
    "    frames.append(data)\n",
    "\n",
    "print(\"* done recording\")\n",
    "\n",
    "stream.stop_stream()\n",
    "stream.close()\n",
    "p.terminate()"
   ]
  },
  {
   "cell_type": "code",
   "execution_count": 23,
   "metadata": {},
   "outputs": [],
   "source": [
    "wf = wave.open(WAVE_OUTPUT_FILENAME, 'wb')\n",
    "wf.setnchannels(CHANNELS)\n",
    "wf.setsampwidth(p.get_sample_size(FORMAT))\n",
    "wf.setframerate(RATE)\n",
    "wf.writeframes(b''.join(frames))\n",
    "wf.close()"
   ]
  }
 ],
 "metadata": {
  "kernelspec": {
   "display_name": "Python 3.8.8 ('spacy')",
   "language": "python",
   "name": "python3"
  },
  "language_info": {
   "codemirror_mode": {
    "name": "ipython",
    "version": 3
   },
   "file_extension": ".py",
   "mimetype": "text/x-python",
   "name": "python",
   "nbconvert_exporter": "python",
   "pygments_lexer": "ipython3",
   "version": "3.8.8"
  },
  "orig_nbformat": 4,
  "vscode": {
   "interpreter": {
    "hash": "706212f05f08f1468fef42b7f5de21da18c7415593b15362f7f28f39aea30eae"
   }
  }
 },
 "nbformat": 4,
 "nbformat_minor": 2
}
